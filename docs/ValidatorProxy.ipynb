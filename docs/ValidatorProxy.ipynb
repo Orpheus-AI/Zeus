{
 "cells": [
  {
   "cell_type": "markdown",
   "metadata": {},
   "source": [
    "# How can the Zeus Subnet be used to query miners on live data?\n",
    "\n",
    "We aim to make it as easy as possible to build a product around this subnet. By default, a validator will automatically start a Proxy process, which allows it to query miners using data of the validator's choice! This is all seamlessly integrated with the main validator logic, meaning a miner will not know whether an incoming request concerns one they will be scored on, or one that is used for a downstream product.\n",
    "\n",
    "This notebook will briefly demonstrate how to use the Proxy API. Note that it is very simple to modify it for your own use-case, which can be done by modifying $\\texttt{zeus->api->proxy.py}$.\n",
    "All proxy options can be configured in the validator.env file"
   ]
  },
  {
   "cell_type": "code",
   "execution_count": null,
   "metadata": {},
   "outputs": [],
   "source": [
    "import requests\n",
    "import torch\n",
    "import cartopy.crs as ccrs\n",
    "import cartopy.feature as cfeature\n",
    "import matplotlib\n",
    "import matplotlib.pyplot as plt\n",
    "\n",
    "from datetime import datetime, timedelta"
   ]
  },
  {
   "cell_type": "markdown",
   "metadata": {},
   "source": [
    "### Request the API\n",
    "It is of course possible to change the latitude/longitude bounding box, the number of hours the miners are shown, and the number of hours you want them to predict.\n",
    "Going outside the ranges configured for a validator is possible, but will allow miners to distinguish (and potentially filter out) a Proxy and regular (scored) request."
   ]
  },
  {
   "cell_type": "code",
   "execution_count": null,
   "metadata": {},
   "outputs": [],
   "source": [
    "# get the timestamp of yesterday 1 o clock\n",
    "yesterday1o = datetime.now().replace(hour=1, minute=0, second=0, microsecond=0) - timedelta(days=1)\n",
    "yesterday3o = datetime.now().replace(hour=1, minute=0, second=0, microsecond=0)\n",
    "\n",
    "response = requests.post(\n",
    "    url='http://localhost:<PROXY_PORT>/predictPoint',\n",
    "    headers={\n",
    "        'authorization': '<PROXY_API_KEY>',\n",
    "    },\n",
    "    json={\n",
    "        \"lat\":51,  # coordinates of the Netherlands\n",
    "        \"lon\": 54,\n",
    "        \"start_timestamp\": float(yesterday1o.timestamp()),\n",
    "        \"end_timestamp\": float(yesterday3o.timestamp()),\n",
    "        'variable': \"2m_temperature\",\n",
    "    }\n",
    ")"
   ]
  },
  {
   "cell_type": "code",
   "execution_count": null,
   "metadata": {},
   "outputs": [],
   "source": [
    "if response.status_code == 200:\n",
    "        prediction = torch.tensor(response.json()[\"prediction\"])\n",
    "        print(prediction.shape)"
   ]
  }
 ],
 "metadata": {
  "kernelspec": {
   "display_name": "Python 3",
   "language": "python",
   "name": "python3"
  },
  "language_info": {
   "codemirror_mode": {
    "name": "ipython",
    "version": 3
   },
   "file_extension": ".py",
   "mimetype": "text/x-python",
   "name": "python",
   "nbconvert_exporter": "python",
   "pygments_lexer": "ipython3",
   "version": "3.11.11"
  }
 },
 "nbformat": 4,
 "nbformat_minor": 2
}
