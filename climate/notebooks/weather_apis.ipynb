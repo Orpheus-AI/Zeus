{
 "cells": [
  {
   "cell_type": "code",
   "execution_count": 25,
   "metadata": {},
   "outputs": [],
   "source": [
    "import openmeteo_requests\n",
    "import time\n",
    "import numpy as np\n",
    "import openmeteo_requests\n",
    "import requests\n",
    "from tqdm import tqdm\n",
    "import pandas as pd\n",
    "from datetime import datetime\n"
   ]
  },
  {
   "cell_type": "markdown",
   "metadata": {},
   "source": [
    "# What Are We Looking For?  \n",
    "We are looking for live data collected by the ECMWF, which provides global measurements on a 0.25-degree resolution grid. This dataset is ideal due to its extensive historical records (ERA5) and our team’s familiarity with it. Eric’s prior experience with this dataset at Cambridge further adds to its convenience and suitability for our work.  \n",
    "\n",
    "## ECMWF API  \n",
    "At first glance, accessing ECMWF’s real-time data requires authorization. Additionally, many public APIs leverage this data source to provide their services. Therefore, our initial step will be to explore these public APIs before investigating direct access to ECMWF’s API.  \n",
    "\n",
    "### Ambiguity in Access  \n",
    "Upon reviewing some public APIs and revisiting the ECMWF documentation, there appears to be ambiguity regarding access:  \n",
    "- Real-time data is available to authorized or licensed users, either directly from ECMWF or through a Member or Co-operating State National Meteorological Service. This is determined during the ordering process.  \n",
    "- Open real-time data is reportedly accessible free of charge via the public FTP.  \n",
    "\n",
    "While the documentation suggests that free access is available, it’s unclear whether this applies universally or only to authorized parties. Further clarification is needed to understand the terms of access.  \n"
   ]
  },
  {
   "cell_type": "code",
   "execution_count": 15,
   "metadata": {},
   "outputs": [],
   "source": [
    "START_DATE = \"2024-01-01\"\n",
    "END_DATE = \"2024-01-20\"\n",
    "VAR = \"temperature_2m\"\n",
    "LAT_RANGE = np.linspace(-90, 90, 721)\n",
    "LON_GROUPS = np.split(np.linspace(-180, 179.75, 1440), 8)"
   ]
  },
  {
   "cell_type": "code",
   "execution_count": 24,
   "metadata": {},
   "outputs": [
    {
     "data": {
      "application/vnd.jupyter.widget-view+json": {
       "model_id": "02efbae3d8e04c6cb426cebed66db400",
       "version_major": 2,
       "version_minor": 0
      },
      "text/plain": [
       "20250123000000-12h-oper-fc.grib2:   0%|          | 0.00/1.90M [00:00<?, ?B/s]"
      ]
     },
     "metadata": {},
     "output_type": "display_data"
    },
    {
     "data": {
      "text/plain": [
       "<ecmwf.opendata.client.Result at 0x7900245be0d0>"
      ]
     },
     "execution_count": 24,
     "metadata": {},
     "output_type": "execute_result"
    }
   ],
   "source": [
    "\n",
    "from ecmwf.opendata import Client\n",
    "client = Client(\"ecmwf\", beta=True)\n",
    "parameters = ['10u', '10v','2t']\n",
    "filename = 'aifs_medium-2t-wind.grib'\n",
    "\n",
    "client.retrieve(\n",
    "    date=0,\n",
    "    time=0,\n",
    "    step=12,\n",
    "    stream=\"oper\",\n",
    "    type=\"fc\",\n",
    "    levtype=\"sfc\",\n",
    "    model=\"aifs\",\n",
    "    param=parameters,\n",
    "    target=filename\n",
    ")"
   ]
  },
  {
   "cell_type": "markdown",
   "metadata": {},
   "source": [
    "# open-meteo forecast\n",
    "This is said on there website:\n",
    "\"By default, we provide forecasts for 7 days, but you can access forecasts for up to 16 days. If you're interested in past weather data, you can use the Past Days feature to access archived forecasts.\"\n",
    "\n",
    "So the \"past days\" in the parameters below is the forecast of the past days. Although this is not interesting to send to miners, it could be used to calculated the Z value in the reward function based on the error of this API. "
   ]
  },
  {
   "cell_type": "code",
   "execution_count": 16,
   "metadata": {},
   "outputs": [
    {
     "name": "stderr",
     "output_type": "stream",
     "text": [
      "  0%|          | 0/721 [00:00<?, ?it/s]"
     ]
    },
    {
     "name": "stdout",
     "output_type": "stream",
     "text": [
      "yes\n",
      "yes\n",
      "yes\n"
     ]
    },
    {
     "name": "stderr",
     "output_type": "stream",
     "text": [
      "  0%|          | 0/721 [00:00<?, ?it/s]"
     ]
    },
    {
     "name": "stdout",
     "output_type": "stream",
     "text": [
      "yes\n",
      "yes\n"
     ]
    },
    {
     "name": "stderr",
     "output_type": "stream",
     "text": [
      "\n"
     ]
    },
    {
     "ename": "OpenMeteoRequestsError",
     "evalue": "{'error': True, 'reason': 'Minutely API request limit exceeded. Please try again in one minute.'}",
     "output_type": "error",
     "traceback": [
      "\u001b[0;31m---------------------------------------------------------------------------\u001b[0m",
      "\u001b[0;31mOpenMeteoRequestsError\u001b[0m                    Traceback (most recent call last)",
      "Cell \u001b[0;32mIn[16], line 17\u001b[0m\n\u001b[1;32m      8\u001b[0m \u001b[38;5;28mprint\u001b[39m(\u001b[38;5;124m\"\u001b[39m\u001b[38;5;124myes\u001b[39m\u001b[38;5;124m\"\u001b[39m)\n\u001b[1;32m      9\u001b[0m params \u001b[38;5;241m=\u001b[39m {\n\u001b[1;32m     10\u001b[0m \t\u001b[38;5;124m\"\u001b[39m\u001b[38;5;124mlatitude\u001b[39m\u001b[38;5;124m\"\u001b[39m: [lat] \u001b[38;5;241m*\u001b[39m \u001b[38;5;28mlen\u001b[39m(lon_group),\n\u001b[1;32m     11\u001b[0m \t\u001b[38;5;124m\"\u001b[39m\u001b[38;5;124mlongitude\u001b[39m\u001b[38;5;124m\"\u001b[39m: lon_group,\n\u001b[0;32m   (...)\u001b[0m\n\u001b[1;32m     15\u001b[0m \t\u001b[38;5;124m\"\u001b[39m\u001b[38;5;124mend_date\u001b[39m\u001b[38;5;124m\"\u001b[39m: END_DATE,\n\u001b[1;32m     16\u001b[0m }\n\u001b[0;32m---> 17\u001b[0m responses \u001b[38;5;241m=\u001b[39m \u001b[43mom\u001b[49m\u001b[38;5;241;43m.\u001b[39;49m\u001b[43mweather_api\u001b[49m\u001b[43m(\u001b[49m\u001b[43murl_forecast\u001b[49m\u001b[43m,\u001b[49m\u001b[43m \u001b[49m\u001b[43mparams\u001b[49m\u001b[38;5;241;43m=\u001b[39;49m\u001b[43mparams\u001b[49m\u001b[43m)\u001b[49m\n\u001b[1;32m     18\u001b[0m fixed_lat_data\u001b[38;5;241m.\u001b[39mextend([c\u001b[38;5;241m.\u001b[39mHourly()\u001b[38;5;241m.\u001b[39mVariables(\u001b[38;5;241m0\u001b[39m)\u001b[38;5;241m.\u001b[39mValuesAsNumpy() \u001b[38;5;28;01mfor\u001b[39;00m c \u001b[38;5;129;01min\u001b[39;00m responses])\n\u001b[1;32m     19\u001b[0m time\u001b[38;5;241m.\u001b[39msleep(\u001b[38;5;241m0.1\u001b[39m)\n",
      "File \u001b[0;32m/usr/local/lib/python3.11/dist-packages/openmeteo_requests/Client.py:54\u001b[0m, in \u001b[0;36mClient.weather_api\u001b[0;34m(self, url, params, method, verify)\u001b[0m\n\u001b[1;32m     50\u001b[0m \u001b[38;5;28;01mdef\u001b[39;00m \u001b[38;5;21mweather_api\u001b[39m(\n\u001b[1;32m     51\u001b[0m     \u001b[38;5;28mself\u001b[39m, url: \u001b[38;5;28mstr\u001b[39m, params: \u001b[38;5;28many\u001b[39m, method: \u001b[38;5;28mstr\u001b[39m \u001b[38;5;241m=\u001b[39m \u001b[38;5;124m\"\u001b[39m\u001b[38;5;124mGET\u001b[39m\u001b[38;5;124m\"\u001b[39m, verify: \u001b[38;5;28mbool\u001b[39m \u001b[38;5;241m|\u001b[39m \u001b[38;5;28mstr\u001b[39m \u001b[38;5;241m|\u001b[39m \u001b[38;5;28;01mNone\u001b[39;00m \u001b[38;5;241m=\u001b[39m \u001b[38;5;28;01mNone\u001b[39;00m\n\u001b[1;32m     52\u001b[0m ) \u001b[38;5;241m-\u001b[39m\u001b[38;5;241m>\u001b[39m \u001b[38;5;28mlist\u001b[39m[WeatherApiResponse]:\n\u001b[1;32m     53\u001b[0m \u001b[38;5;250m    \u001b[39m\u001b[38;5;124;03m\"\"\"Get and decode as weather api\"\"\"\u001b[39;00m\n\u001b[0;32m---> 54\u001b[0m     \u001b[38;5;28;01mreturn\u001b[39;00m \u001b[38;5;28;43mself\u001b[39;49m\u001b[38;5;241;43m.\u001b[39;49m\u001b[43m_get\u001b[49m\u001b[43m(\u001b[49m\u001b[43mWeatherApiResponse\u001b[49m\u001b[43m,\u001b[49m\u001b[43m \u001b[49m\u001b[43murl\u001b[49m\u001b[43m,\u001b[49m\u001b[43m \u001b[49m\u001b[43mparams\u001b[49m\u001b[43m,\u001b[49m\u001b[43m \u001b[49m\u001b[43mmethod\u001b[49m\u001b[43m,\u001b[49m\u001b[43m \u001b[49m\u001b[43mverify\u001b[49m\u001b[43m)\u001b[49m\n",
      "File \u001b[0;32m/usr/local/lib/python3.11/dist-packages/openmeteo_requests/Client.py:35\u001b[0m, in \u001b[0;36mClient._get\u001b[0;34m(self, cls, url, params, method, verify)\u001b[0m\n\u001b[1;32m     33\u001b[0m \u001b[38;5;28;01mif\u001b[39;00m response\u001b[38;5;241m.\u001b[39mstatus_code \u001b[38;5;129;01min\u001b[39;00m [\u001b[38;5;241m400\u001b[39m, \u001b[38;5;241m429\u001b[39m]:\n\u001b[1;32m     34\u001b[0m     response_body \u001b[38;5;241m=\u001b[39m response\u001b[38;5;241m.\u001b[39mjson()\n\u001b[0;32m---> 35\u001b[0m     \u001b[38;5;28;01mraise\u001b[39;00m OpenMeteoRequestsError(response_body)\n\u001b[1;32m     37\u001b[0m response\u001b[38;5;241m.\u001b[39mraise_for_status()\n\u001b[1;32m     39\u001b[0m data \u001b[38;5;241m=\u001b[39m response\u001b[38;5;241m.\u001b[39mcontent\n",
      "\u001b[0;31mOpenMeteoRequestsError\u001b[0m: {'error': True, 'reason': 'Minutely API request limit exceeded. Please try again in one minute.'}"
     ]
    }
   ],
   "source": [
    "om = openmeteo_requests.Client()\n",
    "url_forecast = \"https://api.open-meteo.com/v1/forecast\"\n",
    "\n",
    "forecast_data = []\n",
    "for lat in tqdm(LAT_RANGE):\n",
    "\tfixed_lat_data = []\n",
    "\tfor lon_group in LON_GROUPS:\n",
    "\t\tprint(\"yes\")\n",
    "\t\tparams = {\n",
    "\t\t\t\"latitude\": [lat] * len(lon_group),\n",
    "\t\t\t\"longitude\": lon_group,\n",
    "\t\t\t\"hourly\": [VAR],\n",
    "\t\t\t\"models\": \"ecmwf_ifs025\",\n",
    "\t\t\t\"start_date\": START_DATE,\n",
    "\t\t\t\"end_date\": END_DATE,\n",
    "\t\t}\n",
    "\t\tresponses = om.weather_api(url_forecast, params=params)\n",
    "\t\tfixed_lat_data.extend([c.Hourly().Variables(0).ValuesAsNumpy() for c in responses])\n",
    "\t\ttime.sleep(0.1)\n",
    "\n",
    "\tfixed_lat_data = np.stack(fixed_lat_data)\n",
    "\tforecast_data.append(fixed_lat_data)\n",
    "\n",
    "forecast_data = np.stack(forecast_data)\n",
    "\n",
    "# (lat, lon, time)\n",
    "print(forecast_data.shape)"
   ]
  },
  {
   "cell_type": "code",
   "execution_count": null,
   "metadata": {},
   "outputs": [],
   "source": [
    "np.save(\"forecast_data.npy\", forecast_data)"
   ]
  },
  {
   "cell_type": "markdown",
   "metadata": {},
   "source": [
    "\n",
    "---------------"
   ]
  },
  {
   "cell_type": "markdown",
   "metadata": {},
   "source": [
    "# open-meteo archive\n",
    "\n",
    "the code below shows that we can only get the tempratures of \"yesterday\", so you will have all the data at one point in time.\n",
    "Do note that on their website they claim the following: <br>\n",
    "\"You can access past weather data dating back to 1940. However, **there is a 5-day delay in the data**. If you want information for the most recent days, you can use the forecast API and adjust the Past Days setting.\"\n",
    "\n",
    "When calling the API **we see a max 24hrs delay**, but I'm not sure if we can trust this observation. "
   ]
  },
  {
   "cell_type": "code",
   "execution_count": 66,
   "metadata": {},
   "outputs": [
    {
     "data": {
      "text/plain": [
       "array([-29.25, -29.6 , -29.55, -29.55, -29.35, -29.35, -29.3 , -29.15,\n",
       "       -29.15, -28.85, -28.7 , -28.25, -27.45, -26.9 , -26.15, -25.45,\n",
       "       -24.95, -24.3 , -23.65, -22.9 , -22.25, -21.9 , -21.85, -21.85,\n",
       "       -21.65, -20.85, -20.5 , -20.  , -19.6 , -19.3 , -19.2 , -19.25,\n",
       "       -19.45, -19.6 , -19.7 , -19.8 , -19.95, -20.2 , -20.4 , -20.55,\n",
       "       -20.65, -20.6 , -20.55, -20.5 , -20.45, -20.45, -20.5 , -20.55,\n",
       "       -20.5 , -20.5 , -20.75, -20.95, -21.05, -20.95, -20.8 , -20.6 ,\n",
       "       -20.35, -20.3 , -20.35, -20.4 , -20.45, -20.95, -21.15, -21.35,\n",
       "       -21.65, -21.85, -22.  , -22.2 , -22.45, -22.65, -22.8 , -22.9 ,\n",
       "       -23.  , -23.1 , -22.85, -22.8 , -22.35, -21.95, -21.85, -21.95,\n",
       "       -21.8 , -21.45, -21.25, -21.1 , -20.85, -21.15, -21.  , -20.85,\n",
       "       -20.75, -20.75, -21.  , -21.6 , -21.95, -22.15, -22.5 , -22.85,\n",
       "       -23.25, -22.7 , -23.1 , -23.45, -23.95, -24.25, -24.3 , -24.4 ,\n",
       "       -24.55, -24.75, -25.  , -25.2 , -25.3 , -25.8 , -25.95, -26.  ,\n",
       "       -25.95, -25.95, -25.85, -25.8 , -25.85, -25.9 , -25.85, -25.7 ,\n",
       "       -25.75, -25.55, -25.45, -25.2 , -25.  , -24.9 , -24.9 , -24.8 ,\n",
       "       -24.8 , -24.65, -24.4 , -24.2 , -23.95, -24.  , -23.8 , -23.7 ,\n",
       "       -23.65, -23.85, -23.85, -24.15, -24.4 , -24.5 , -24.35, -24.3 ,\n",
       "       -24.35, -24.85, -24.7 , -24.45, -24.3 , -24.2 , -24.1 , -24.05,\n",
       "       -23.9 , -23.9 , -23.9 , -23.85, -23.7 , -23.7 , -23.6 , -23.6 ,\n",
       "       -23.65, -23.65, -23.65, -23.85, -24.1 , -24.3 , -24.35, -24.45,\n",
       "       -24.55, -25.75, -25.8 , -26.  , -26.2 , -26.3 , -26.6 , -26.95,\n",
       "       -27.25, -27.4 , -27.25, -27.4 , -27.55, -27.55, -27.55, -27.7 ,\n",
       "       -27.8 , -27.85, -28.  , -28.25, -28.25, -28.25, -28.45, -28.7 ,\n",
       "       -28.9 , -28.75, -29.  , -29.1 , -29.3 , -29.6 , -29.8 , -29.85,\n",
       "       -29.9 , -30.05, -30.25, -30.3 , -30.45, -30.55, -30.55, -30.55,\n",
       "       -30.6 , -30.4 , -30.45, -30.55, -30.75, -30.85, -31.1 , -31.4 ,\n",
       "       -31.65, -31.75, -31.65, -31.7 , -31.8 , -31.95, -32.  , -31.9 ,\n",
       "       -31.85, -31.85, -31.9 , -31.9 , -31.9 , -31.95, -31.85, -31.85,\n",
       "       -31.95, -32.  , -31.95, -31.95, -31.9 , -31.9 , -31.95, -32.  ,\n",
       "       -32.05, -32.25, -32.25, -32.3 , -32.3 , -32.25, -32.3 , -32.15,\n",
       "       -32.2 , -32.05, -32.  , -32.  , -31.85, -32.25, -31.95, -31.85,\n",
       "       -31.75, -31.7 , -31.7 , -31.65, -31.75, -31.75, -31.75, -31.65,\n",
       "       -31.75, -31.35, -31.35, -31.25, -31.2 , -31.15, -30.9 , -30.7 ,\n",
       "       -30.55, -30.3 , -30.  , -29.8 , -29.4 , -28.85, -28.55, -28.25,\n",
       "       -28.  , -27.6 , -26.85, -26.25, -25.95, -25.65, -25.15, -24.9 ,\n",
       "       -24.45, -24.25, -24.  , -23.5 , -22.85, -22.6 , -22.5 , -22.4 ,\n",
       "       -22.5 , -22.65, -22.6 , -22.85, -23.2 , -23.85, -24.15, -24.55,\n",
       "       -24.7 , -24.9 , -25.  , -24.9 , -24.8 , -24.95, -25.05, -24.85,\n",
       "       -24.35, -24.15, -24.2 , -24.25, -24.4 , -24.55, -24.7 , -24.9 ,\n",
       "       -25.  , -25.15, -25.25, -25.35, -25.55, -26.05, -26.25, -26.35,\n",
       "       -26.4 , -26.45, -26.5 , -26.55, -26.6 , -26.6 , -26.6 , -26.6 ,\n",
       "       -26.6 , -26.85, -26.95, -27.05, -27.15, -27.25, -27.35, -27.4 ,\n",
       "       -27.45, -27.45, -27.55, -27.65, -27.9 , -28.05, -28.1 , -28.  ,\n",
       "       -28.  , -28.  , -28.05, -28.15, -28.2 , -27.95, -27.55, -27.25,\n",
       "       -26.9 , -26.8 , -26.7 , -26.8 , -26.85, -27.1 , -27.5 , -27.9 ,\n",
       "       -28.2 , -28.45, -28.6 , -28.7 , -28.8 , -29.35, -29.45, -29.55,\n",
       "       -29.6 , -29.6 , -29.6 , -29.45, -29.1 , -28.8 , -28.75, -28.85,\n",
       "       -28.7 , -28.55, -28.4 , -28.25, -28.15, -28.15, -28.25, -28.25,\n",
       "       -28.1 , -28.1 , -28.05, -28.  , -27.9 , -28.3 , -27.95, -27.7 ,\n",
       "       -27.4 , -27.1 , -26.9 , -26.8 , -27.  , -27.  , -27.1 , -27.15,\n",
       "       -27.15, -27.7 , -27.9 , -28.05, -28.05, -27.75, -27.65, -27.5 ,\n",
       "       -27.45, -27.4 , -27.6 , -28.05, -28.4 , -28.9 , -29.1 , -29.3 ,\n",
       "       -29.45, -29.55, -29.65, -29.7 , -29.7 , -29.8 , -29.8 , -29.9 ,\n",
       "       -30.  , -30.2 , -30.2 , -30.15, -30.1 , -30.15, -30.2 , -30.1 ,\n",
       "       -30.05, -30.05, -30.  , -30.  , -29.85, -29.45, -29.45, -29.45,\n",
       "       -29.6 , -29.85, -30.  , -30.05, -30.15, -30.25, -30.35, -30.4 ,\n",
       "       -30.3 , -30.  , -29.85, -29.7 , -29.45, -28.95, -28.3 , -28.  ,\n",
       "       -27.75, -27.7 , -27.8 , -27.9 , -27.9 , -27.6 , -27.7 , -27.85,\n",
       "       -27.85, -28.  , -28.  , -27.85, -27.8 , -27.85, -27.85, -27.85,\n",
       "       -27.9 , -28.5 , -28.6 , -28.8 , -29.  , -29.2 , -29.35, -29.3 ,\n",
       "       -29.1 , -28.7 , -28.3 , -28.  , -28.  , -28.1 , -27.85, -27.7 ,\n",
       "       -27.55, -27.1 , -26.75, -26.15, -25.45, -25.  , -24.65, -24.2 ,\n",
       "       -23.75,    nan,    nan,    nan,    nan,    nan,    nan,    nan,\n",
       "          nan,    nan,    nan,    nan,    nan,    nan,    nan,    nan,\n",
       "          nan,    nan,    nan,    nan,    nan,    nan,    nan,    nan,\n",
       "          nan,    nan,    nan,    nan,    nan,    nan,    nan,    nan,\n",
       "          nan,    nan,    nan,    nan,    nan,    nan,    nan,    nan,\n",
       "          nan,    nan,    nan,    nan,    nan,    nan,    nan,    nan],\n",
       "      dtype=float32)"
      ]
     },
     "execution_count": 66,
     "metadata": {},
     "output_type": "execute_result"
    }
   ],
   "source": [
    "om = openmeteo_requests.Client()\n",
    "url_archive = \"https://archive-api.open-meteo.com/v1/archive\"\n",
    "\n",
    "archive_data = []\n",
    "for lat in LAT_RANGE:\n",
    "\tfixed_lat_data = []\n",
    "\tfor lon_group in LON_GROUPS:\n",
    "\t\tparams = {\n",
    "\t\t\t\"latitude\": [lat] * len(lon_group),\n",
    "\t\t\t\"longitude\": lon_group,\n",
    "\t\t\t\"hourly\": [VAR],\n",
    "\t\t\t\"start_date\": START_DATE,\n",
    "\t\t\t\"end_date\": END_DATE,\n",
    "\t\t}\n",
    "\t\tresponses = om.weather_api(url_archive, params=params)\n",
    "\t\tfixed_lat_data.extend([c.Hourly().Variables(0).ValuesAsNumpy() for c in responses])\n",
    "\n",
    "\tfixed_lat_data = np.stack(fixed_lat_data)\n",
    "\tarchive_data.append(fixed_lat_data)\n",
    "\n",
    "archive_data = np.stack(archive_data)\n",
    "\n",
    "# (lat, lon, time)\n",
    "print(archive_data.shape)"
   ]
  },
  {
   "cell_type": "code",
   "execution_count": null,
   "metadata": {},
   "outputs": [],
   "source": [
    "np.save(\"archive_data.npy\", archive_data)"
   ]
  },
  {
   "cell_type": "markdown",
   "metadata": {},
   "source": [
    "# Calling our miners as an API"
   ]
  },
  {
   "cell_type": "code",
   "execution_count": null,
   "metadata": {},
   "outputs": [],
   "source": [
    "response = requests.post(\n",
    "    \"http://localhost:10913/query\",\n",
    "    headers={\"authorization\": \"whatever\"},\n",
    "    json={\n",
    "        \"lat_start\": 51.0,\n",
    "        \"lat_end\": 53.0,\n",
    "        \"lon_start\": 3.0,\n",
    "        \"lon_end\": 7.0,\n",
    "        \"start_time\": \"2024-10-02T00:00:00\",\n",
    "        \"end_time\": \"2024-10-04T00:00:00\",\n",
    "        \"predict_hours\": 24,\n",
    "    }\n",
    ")"
   ]
  },
  {
   "cell_type": "code",
   "execution_count": null,
   "metadata": {},
   "outputs": [],
   "source": [
    "torch.tensor(response.json()[\"prediction\"])"
   ]
  }
 ],
 "metadata": {
  "kernelspec": {
   "display_name": "Python 3",
   "language": "python",
   "name": "python3"
  },
  "language_info": {
   "codemirror_mode": {
    "name": "ipython",
    "version": 3
   },
   "file_extension": ".py",
   "mimetype": "text/x-python",
   "name": "python",
   "nbconvert_exporter": "python",
   "pygments_lexer": "ipython3",
   "version": "3.11.10"
  }
 },
 "nbformat": 4,
 "nbformat_minor": 2
}
